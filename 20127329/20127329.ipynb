{
 "cells": [
  {
   "cell_type": "code",
   "execution_count": null,
   "metadata": {},
   "outputs": [],
   "source": [
    "# import necessary libraries\n",
    "import numpy as np\n",
    "import matplotlib.pyplot as plt\n",
    "from PIL import Image "
   ]
  },
  {
   "cell_type": "markdown",
   "metadata": {},
   "source": [
    "### Support Functions"
   ]
  },
  {
   "cell_type": "code",
   "execution_count": null,
   "metadata": {},
   "outputs": [],
   "source": [
    "def openAndReadImage(nameImg): #Operation to open 1 image\n",
    "      image = Image.open(nameImg)\n",
    "      image = np.array(image)\n",
    "      return image\n",
    "\n",
    "def iamgePreProcess(image): #pre-processing of the image\n",
    "      width=image.shape[0]\n",
    "      height=image.shape[1]\n",
    "      channels=image.shape[2]\n",
    "      flat_image = image.reshape(width* height,channels)\n",
    "      return flat_image,width, height, channels\n",
    "\n",
    "def check(pixel): # handle pixel when pixel > 255 or pixel < 0   \n",
    "    if pixel <= 0: \n",
    "          return 0\n",
    "    elif pixel >= 255: \n",
    "          return 255\n",
    "    return pixel\n",
    "\n",
    "def output(result,width,height,n_channel,name,input,save=False):\n",
    "      result=result.reshape(width,height,n_channel) # reshape new image to original size\n",
    "      if(save==False):\n",
    "       display(Image.fromarray(result))\n",
    "      else:\n",
    "        output_file = name.split('.')[0]+input+\".\"+name.split('.')[1] # Generate file name according to input format\n",
    "        Image.fromarray(result).save(output_file)"
   ]
  },
  {
   "cell_type": "markdown",
   "metadata": {},
   "source": [
    "### Change the brightness of the image"
   ]
  },
  {
   "cell_type": "code",
   "execution_count": null,
   "metadata": {},
   "outputs": [],
   "source": [
    "def adjustBrightness(image, brightness): # Adjust the brightness using the formula  \n",
    "    for i in range(len(image)):\n",
    "        R,G,B=image[i] # take RGB color to add brightness value \n",
    "        image[i]=check(R+brightness),check(G+brightness),check(B+brightness)    \n",
    "    return image\n",
    "\n"
   ]
  },
  {
   "cell_type": "code",
   "execution_count": null,
   "metadata": {},
   "outputs": [],
   "source": [
    "\n",
    "def test_Brightness(name,brightness,save):\n",
    "    img=openAndReadImage(name)\n",
    "    \n",
    "    image,width,height,n_channel = iamgePreProcess(img)\n",
    "    result=adjustBrightness(image,brightness)\n",
    "    output(result,width,height,n_channel,name,\"_brightness\",save)\n",
    "        "
   ]
  },
  {
   "cell_type": "markdown",
   "metadata": {},
   "source": [
    "### Change the contrast"
   ]
  },
  {
   "cell_type": "code",
   "execution_count": null,
   "metadata": {},
   "outputs": [],
   "source": [
    "def adjustContract(image,contrast): # Adjust the contrast using the formula  \n",
    "    for i in range(len(image)):\n",
    "        R,G,B=image[i]\n",
    "        factor = (259 * (contrast + 255)) / (255 * (259 - contrast))\n",
    "        image[i]=check(factor*(R-128)+128),check(factor*(G-128)+128),check(factor*(B-128)+128)\n",
    "    return image"
   ]
  },
  {
   "cell_type": "code",
   "execution_count": null,
   "metadata": {},
   "outputs": [],
   "source": [
    "def test_Contract(name,contract,save):\n",
    "    img=openAndReadImage(name)\n",
    "    image,width,height,n_channel = iamgePreProcess(img)\n",
    "    result=adjustContract(image,contract)\n",
    "    output(result,width,height,n_channel,name,\"_contract\",save)"
   ]
  },
  {
   "cell_type": "markdown",
   "metadata": {},
   "source": [
    "### FLip Image"
   ]
  },
  {
   "cell_type": "code",
   "execution_count": null,
   "metadata": {},
   "outputs": [],
   "source": [
    "def flip_Image(image,input):\n",
    "    result = np.array(image)\n",
    "    if input=='V':  # Vertical \n",
    "        return np.flip(result, axis=0)\n",
    "    elif input=='H': # Horizontal\n",
    "        return np.flip(result, axis=1)\n"
   ]
  },
  {
   "cell_type": "code",
   "execution_count": null,
   "metadata": {},
   "outputs": [],
   "source": [
    "def test_Flip_Image(name,choose,save):\n",
    "    img=openAndReadImage(name)\n",
    "    result=flip_Image(img,choose)\n",
    "    if(save==False):\n",
    "        display(Image.fromarray(result))\n",
    "    else:\n",
    "        if(choose==\"H\"):\n",
    "             output_file = name.split('.')[0]+\"_Horizontal\"+\".\"+name.split('.')[1]\n",
    "        else:\n",
    "             output_file = name.split('.')[0]+\"_Vertical\"+\".\"+name.split('.')[1]\n",
    "        Image.fromarray(result).save(output_file)"
   ]
  },
  {
   "cell_type": "markdown",
   "metadata": {},
   "source": [
    "### Gray Scale"
   ]
  },
  {
   "cell_type": "code",
   "execution_count": null,
   "metadata": {},
   "outputs": [],
   "source": [
    "def changeGrayScale(image): # gray scale image using formula\n",
    "    for i in range(len(image)):\n",
    "        R,G,B=image[i]\n",
    "        gray=check(R*0.2989)+check(G*0.5870)+check(B*0.1140) \n",
    "        image[i]=gray,gray,gray   \n",
    "    return image"
   ]
  },
  {
   "cell_type": "code",
   "execution_count": null,
   "metadata": {},
   "outputs": [],
   "source": [
    "def test_GrayScale(name,save):\n",
    "    img=openAndReadImage(name)\n",
    "    image,width,height,n_channel = iamgePreProcess(img)\n",
    "    result=changeGrayScale(image)\n",
    "    output(result,width,height,n_channel,name,\"_grayscale\",save)"
   ]
  },
  {
   "cell_type": "markdown",
   "metadata": {},
   "source": [
    "### Plus 2 Image have same size"
   ]
  },
  {
   "cell_type": "code",
   "execution_count": null,
   "metadata": {},
   "outputs": [],
   "source": [
    "\n",
    "def plus2Image(image1,image2,alpha):\n",
    "    image01,width,height,n_channel = iamgePreProcess(image1)\n",
    "    img01=changeGrayScale(image01)\n",
    "    img01=img01.reshape(width,height,n_channel) # create gray iamge\n",
    "    \n",
    "    image02,width,height,n_channel = iamgePreProcess(image2)\n",
    "    img02=changeGrayScale(image02)\n",
    "    img02=img02.reshape(width,height,n_channel) # create gray iamge\n",
    "    \n",
    "    result = np.zeros(img01.shape,dtype=img01.dtype) # because the two pictures are the same size (Take image1 or image2) \n",
    "    result[:,:,:] = (alpha * img01[:,:,:]) + ((1-alpha) * img02[:,:,:])\n",
    "    return result\n"
   ]
  },
  {
   "cell_type": "code",
   "execution_count": null,
   "metadata": {},
   "outputs": [],
   "source": [
    "def test_Plus_2Image(name1,name2,alpha,save):\n",
    "    img1=openAndReadImage(name1)\n",
    "    img2=openAndReadImage(name2)\n",
    "    \n",
    "    result=plus2Image(img1, img2,alpha)\n",
    "    if save==False:\n",
    "        display(Image.fromarray(result))\n",
    "    else:\n",
    "        Image.fromarray(result).save(\"ResultPlus2Image.png\")\n",
    "        "
   ]
  },
  {
   "cell_type": "markdown",
   "metadata": {},
   "source": [
    "### Blur Iamge Using Box Blur"
   ]
  },
  {
   "cell_type": "code",
   "execution_count": null,
   "metadata": {},
   "outputs": [],
   "source": [
    "def box_blur(img,height,width):\n",
    "    result  = img.copy()\n",
    "    for x in range(0,width-1):\n",
    "        for y in range(0,height-1):\n",
    "            sum_pixels = (0, 0, 0)\n",
    "            for pixel in [(x-1,y+1),(x,y+1),(x+1,y+1), (x-1,y),(x,y),(x+1,y),(x-1,y-1),(x,y-1),(x+1,y-1)]:\n",
    "                sum_pixels=tuple(map(lambda i, j: i + j, sum_pixels,img[pixel]))\n",
    "            result[x][y]=tuple(map(lambda i, j: i // j, sum_pixels, (9, 9, 9))) # assignment new color for new image have x ,y coordinate\n",
    "    return result"
   ]
  },
  {
   "cell_type": "code",
   "execution_count": null,
   "metadata": {},
   "outputs": [],
   "source": [
    "def test_Blur(name,save):\n",
    "    img=openAndReadImage(name)\n",
    "    _,width,height,n_channel = iamgePreProcess(img)\n",
    "    result=box_blur(img,height,width)\n",
    "    output(result,width,height,n_channel,name,\"_Blur\",save)"
   ]
  },
  {
   "cell_type": "markdown",
   "metadata": {},
   "source": [
    "### Crop a photo with a circle frame"
   ]
  },
  {
   "cell_type": "code",
   "execution_count": null,
   "metadata": {},
   "outputs": [],
   "source": [
    "def crop_Circle(name,save):\n",
    "    img=Image.open(name)\n",
    "    width,height=img.size\n",
    "   \n",
    "   \n",
    "    center = (int(width/2), int(height/2)) # take center of circle\n",
    "    radius = min(center[0], center[1], width-center[0], height-center[1]) # calculate radius \n",
    "    \n",
    "    Y,X = np.ogrid[0:height, 0:width]\n",
    "    mask = (X- (width/ 2)) ** 2 + (Y-(height / 2)) ** 2 <= radius**2 # circle equation\n",
    "    \n",
    "    # Create same size alpha layer with circle\n",
    "    alpha = Image.new('L', [width,height],0) \n",
    "    npAlpha=np.array(alpha) # Convert alpha Image to numpy array\n",
    "    npAlpha[~mask] = 0\n",
    "    npAlpha[mask] = 255\n",
    "    # Add alpha layer to RGB\n",
    "    result=np.dstack((img,npAlpha))\n",
    "    \n",
    "    if save==False:\n",
    "         display(Image.fromarray(result))\n",
    "    else:\n",
    "        output_file = name.split('.')[0]+\"_cropCircle\"+\".png\"\n",
    "        Image.fromarray(result).save(output_file)\n",
    "        \n",
    "\n"
   ]
  },
  {
   "cell_type": "markdown",
   "metadata": {},
   "source": [
    "### The frame is 2 ellipses that cross each other"
   ]
  },
  {
   "cell_type": "code",
   "execution_count": null,
   "metadata": {},
   "outputs": [],
   "source": [
    "def generate_ellipse(x, y, x_centre, y_centre, rotation, a, b):\n",
    "        term1 = ((x - x_centre) * np.cos(rotation) + \n",
    "            (y - y_centre) * np.sin(rotation))**2\n",
    "        term2 = ((x - x_centre) * np.sin(rotation) + \n",
    "            (y - y_centre) * np.cos(rotation))**2\n",
    "        ellipse = ((term1 / a**2) + (term2 / b**2)) <= 1\n",
    "        return ellipse  # True for points inside the ellipse\n",
    "def crop_2_Ellipses_Cross(name,save):\n",
    "    a,b = 0.9,0.9\n",
    "    x0,y0=0,0\n",
    "    img =Image.open(name)\n",
    "    width,height=img.size\n",
    "    \n",
    "    # set up a coordinate system\n",
    "    x = np.linspace(-1.2, 1.2, width)\n",
    "    y = np.linspace(-1.2, 1.2, height)[:,\n",
    "                                None]\n",
    "\n",
    "\n",
    "    ellipse1 = generate_ellipse(x, y, x0, y0, 9.78, a, b) # create a 2D ellipse01\n",
    "    ellipse2 = generate_ellipse(x, y, x0, y0, -9.78, a, b)# create a 2D ellipse02\n",
    "   \n",
    "\n",
    "    alpha = Image.new('L', [width,height],0) # Create same size alpha layer with ellipses\n",
    "    npAlpha=np.array(alpha)# Convert alpha Image to numpy array\n",
    "   # Create same size alpha layer with 2 ellipses cross\n",
    "    npAlpha[ellipse1] = 255\n",
    "    npAlpha[ellipse2] = 255 \n",
    "    \n",
    "    # Add alpha layer to RGB\n",
    "    result=np.dstack((img,npAlpha))\n",
    "    if save==False:\n",
    "        \n",
    "         display(Image.fromarray(result))\n",
    "    else:\n",
    "        output_file = name.split('.')[0]+\"_crop2Ellipses\"+\".png\"\n",
    "        a=Image.fromarray(result)\n",
    "        a.save(output_file)\n",
    "        "
   ]
  },
  {
   "cell_type": "markdown",
   "metadata": {},
   "source": [
    "### Main"
   ]
  },
  {
   "cell_type": "code",
   "execution_count": null,
   "metadata": {},
   "outputs": [],
   "source": [
    "def main():\n",
    "  name=str(input(\"Enter name of the image: \"))\n",
    "  print(\"1.Brightness of image\")\n",
    "  print(\"2.Contract of image\")\n",
    "  print(\"3.Grayscale of image\")\n",
    "  print(\"4.Flip of image\")\n",
    "  print(\"5.Plus 2 image\")\n",
    "  print(\"6.Blur image\")\n",
    "  print(\"7.Crop iamge circle\")\n",
    "  print(\"8.Crop iamge using 2 ellipses that cross each other\")\n",
    "  number=int(input(\"Enter choose :\"))\n",
    "  if(number==1):\n",
    "      brightness=int(input(\"Enter brightness :\"))\n",
    "      print(\"--------------------------------RESULT--------------------------------\")\n",
    "      print(\"Brightness : \",brightness)\n",
    "      test_Brightness(name,brightness,save=False)\n",
    "  elif(number==2):\n",
    "      contract=int(input(\"Enter contract :\"))\n",
    "      print(\"--------------------------------RESULT--------------------------------\")\n",
    "      print(\"Contract : \",contract)\n",
    "      test_Contract(name,contract,save =False)\n",
    "  elif(number==3):\n",
    "      print(\"--------------------------------RESULT--------------------------------\")\n",
    "      test_GrayScale(name,save =False)\n",
    "  elif(number==4):\n",
    "      choose=str(input(\"Enter H (horizontal) or V (vertical) :\"))\n",
    "      print(\"--------------------------------RESULT--------------------------------\")\n",
    "      if(choose=='H'):\n",
    "          print(\"Horizontal\")\n",
    "      else:\n",
    "          print(\"Vertical\")\n",
    "      test_Flip_Image(name,choose,save =False)\n",
    "  elif(number==5):\n",
    "      name1=str(input(\"Enter name 01 of the image: \"))\n",
    "      name2=str(input(\"Enter name 02 of the image: \"))\n",
    "      alpha=float(input(\"Enter alpha :\"))\n",
    "      print(\"--------------------------------RESULT--------------------------------\")\n",
    "      test_Plus_2Image(name1,name2,alpha,save=False)\n",
    "  elif(number==6):\n",
    "      print(\"--------------------------------RESULT--------------------------------\")\n",
    "      test_Blur(name,save =False)\n",
    "       \n",
    "  elif(number==7):\n",
    "      print(\"--------------------------------RESULT--------------------------------\")\n",
    "      crop_Circle(name,save=False)\n",
    "       \n",
    "  elif(number==8):\n",
    "      print(\"--------------------------------RESULT--------------------------------\")\n",
    "      crop_2_Ellipses_Cross(name,save =False)\n",
    "  elif(number==0):\n",
    "      print(\"--------------------------------RESULT--------------------------------\")\n",
    "      print(\"Check Folder\")\n",
    "      brightness=50\n",
    "      contract=128\n",
    "      choose01='H'\n",
    "      choose02='V'\n",
    "      test_Brightness(name,brightness,save=True)                                               \n",
    "      test_Contract(name,contract,save =True)\n",
    "      test_GrayScale(name,save =True)\n",
    "      test_Flip_Image(name,choose01,save =True)\n",
    "      test_Flip_Image(name,choose02,save =True)\n",
    "      test_Blur(name,save =True)\n",
    "      crop_Circle(name,save=True)\n",
    "      crop_2_Ellipses_Cross(name,save =True)\n",
    "      name1=str(input(\"Enter name 01 of the image: \"))\n",
    "      name2=str(input(\"Enter name 02 of the image: \"))\n",
    "      alpha=float(input(\"Enter alpha :\"))\n",
    "      print(\"--------------------------------RESULT--------------------------------\")\n",
    "      test_Plus_2Image(name1,name2,alpha,save=True)\n",
    "  else:\n",
    "        print(\"Please again!\")"
   ]
  },
  {
   "cell_type": "code",
   "execution_count": null,
   "metadata": {},
   "outputs": [],
   "source": [
    "if __name__ == \"__main__\":\n",
    "    \n",
    "    main()\n",
    "    "
   ]
  }
 ],
 "metadata": {
  "kernelspec": {
   "display_name": "Python 3.9.6 64-bit",
   "language": "python",
   "name": "python3"
  },
  "language_info": {
   "codemirror_mode": {
    "name": "ipython",
    "version": 3
   },
   "file_extension": ".py",
   "mimetype": "text/x-python",
   "name": "python",
   "nbconvert_exporter": "python",
   "pygments_lexer": "ipython3",
   "version": "3.9.6"
  },
  "orig_nbformat": 4,
  "vscode": {
   "interpreter": {
    "hash": "bf4fbbcfb44b62809ee9ef976aff62d8f85ac4ea82e40788fda9594addf376e6"
   }
  }
 },
 "nbformat": 4,
 "nbformat_minor": 2
}
